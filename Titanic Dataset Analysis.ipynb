{
 "cells": [
  {
   "cell_type": "markdown",
   "metadata": {},
   "source": [
    "# TITANIC PASSENGER ANALYSIS"
   ]
  },
  {
   "cell_type": "markdown",
   "metadata": {},
   "source": [
    "In examining this dataset, I shall be posing some questions and answering them as best as I can.\n",
    "\n",
    "Below, is an image of the Data Dictionary explaining the different variables being examined in this analysis"
   ]
  },
  {
   "cell_type": "markdown",
   "metadata": {},
   "source": [
    "<img src=\"Img.JPG\">"
   ]
  },
  {
   "cell_type": "markdown",
   "metadata": {},
   "source": [
    "### Some Questions Posed"
   ]
  },
  {
   "cell_type": "markdown",
   "metadata": {},
   "source": [
    "1. The number of males and females aboard the titanic\n",
    "2. The mean, median and modal ages of both males and female\n",
    "3. The number of male survivors and female survivors\n",
    "4. The mean, median and modal ages of survivors and dead by gender\n",
    "5. Relationship between Ticket Fares and Embarkation Points\n",
    "6. Relationship between Embarkation points and Survival\n",
    "7. Relationship between Age and Survival\n",
    "8. Relationship between Class and Survival\n",
    "9. The group with the highest and least survival chances in the dataset"
   ]
  },
  {
   "cell_type": "markdown",
   "metadata": {},
   "source": [
    "## WRANGLING & EXPLORATION"
   ]
  },
  {
   "cell_type": "markdown",
   "metadata": {},
   "source": [
    "### Understanding the Dataset"
   ]
  },
  {
   "cell_type": "markdown",
   "metadata": {},
   "source": [
    "The first step in trying to understand the dataset is reading the CSV into our jupyter notebook using pandas read_csv function which converts the CSV into a dataframe. We also import the NumPy and Seaborn libraries to aid our operations and visualizations."
   ]
  },
  {
   "cell_type": "code",
   "execution_count": 1,
   "metadata": {},
   "outputs": [],
   "source": [
    "import numpy as np\n",
    "import pandas as pd\n",
    "import seaborn as sns\n",
    "\n",
    "Titanic = pd.read_csv('titanic_data.csv')"
   ]
  },
  {
   "cell_type": "markdown",
   "metadata": {},
   "source": [
    "#### Identifying the Inconsistencies in the Dataset"
   ]
  },
  {
   "cell_type": "markdown",
   "metadata": {},
   "source": [
    "We use the .info() function which shows the number of rows in each column and in this case, serves as a guide to possible missing values and inconsistencies in our dataset."
   ]
  },
  {
   "cell_type": "code",
   "execution_count": 2,
   "metadata": {},
   "outputs": [
    {
     "name": "stdout",
     "output_type": "stream",
     "text": [
      "<class 'pandas.core.frame.DataFrame'>\n",
      "RangeIndex: 891 entries, 0 to 890\n",
      "Data columns (total 12 columns):\n",
      "PassengerId    891 non-null int64\n",
      "Survived       891 non-null int64\n",
      "Pclass         891 non-null int64\n",
      "Name           891 non-null object\n",
      "Sex            891 non-null object\n",
      "Age            714 non-null float64\n",
      "SibSp          891 non-null int64\n",
      "Parch          891 non-null int64\n",
      "Ticket         891 non-null object\n",
      "Fare           891 non-null float64\n",
      "Cabin          204 non-null object\n",
      "Embarked       889 non-null object\n",
      "dtypes: float64(2), int64(5), object(5)\n",
      "memory usage: 83.6+ KB\n"
     ]
    }
   ],
   "source": [
    "Titanic.info()"
   ]
  },
  {
   "cell_type": "markdown",
   "metadata": {},
   "source": [
    "We notice some inconsistencies in the number of entries for certain columns - Age, Cabin and Embarked - in the dataset.\n",
    "I will proceed to unify the number of rows in each column. For this analysis, I shall only be focusing on the Age and Embarked columns."
   ]
  },
  {
   "cell_type": "markdown",
   "metadata": {},
   "source": [
    "### Data Cleaning"
   ]
  },
  {
   "cell_type": "markdown",
   "metadata": {},
   "source": [
    "Having noted the missing values in our dataset, the next step is cleaning it to make sure we work with an unbiased dataset as much as possible."
   ]
  },
  {
   "cell_type": "markdown",
   "metadata": {},
   "source": [
    "I shall be removing the Cabin column as the values are too few to be meaningful in our analysis. I shall also be removing the Ticket column as I will not be using it in this analysis."
   ]
  },
  {
   "cell_type": "markdown",
   "metadata": {},
   "source": [
    "#### Removing Columns"
   ]
  },
  {
   "cell_type": "code",
   "execution_count": 3,
   "metadata": {},
   "outputs": [],
   "source": [
    "#Using the drop function to remove multiple columns from a pandas dataframe\n",
    "Titanic.drop(['Cabin', 'Ticket'], axis=1, inplace=True)"
   ]
  },
  {
   "cell_type": "markdown",
   "metadata": {},
   "source": [
    "**We run a check to make sure the column has been deleted using the .head() function**"
   ]
  },
  {
   "cell_type": "code",
   "execution_count": 4,
   "metadata": {},
   "outputs": [
    {
     "data": {
      "text/html": [
       "<div>\n",
       "<style scoped>\n",
       "    .dataframe tbody tr th:only-of-type {\n",
       "        vertical-align: middle;\n",
       "    }\n",
       "\n",
       "    .dataframe tbody tr th {\n",
       "        vertical-align: top;\n",
       "    }\n",
       "\n",
       "    .dataframe thead th {\n",
       "        text-align: right;\n",
       "    }\n",
       "</style>\n",
       "<table border=\"1\" class=\"dataframe\">\n",
       "  <thead>\n",
       "    <tr style=\"text-align: right;\">\n",
       "      <th></th>\n",
       "      <th>PassengerId</th>\n",
       "      <th>Survived</th>\n",
       "      <th>Pclass</th>\n",
       "      <th>Name</th>\n",
       "      <th>Sex</th>\n",
       "      <th>Age</th>\n",
       "      <th>SibSp</th>\n",
       "      <th>Parch</th>\n",
       "      <th>Fare</th>\n",
       "      <th>Embarked</th>\n",
       "    </tr>\n",
       "  </thead>\n",
       "  <tbody>\n",
       "    <tr>\n",
       "      <th>0</th>\n",
       "      <td>1</td>\n",
       "      <td>0</td>\n",
       "      <td>3</td>\n",
       "      <td>Braund, Mr. Owen Harris</td>\n",
       "      <td>male</td>\n",
       "      <td>22.0</td>\n",
       "      <td>1</td>\n",
       "      <td>0</td>\n",
       "      <td>7.2500</td>\n",
       "      <td>S</td>\n",
       "    </tr>\n",
       "    <tr>\n",
       "      <th>1</th>\n",
       "      <td>2</td>\n",
       "      <td>1</td>\n",
       "      <td>1</td>\n",
       "      <td>Cumings, Mrs. John Bradley (Florence Briggs Th...</td>\n",
       "      <td>female</td>\n",
       "      <td>38.0</td>\n",
       "      <td>1</td>\n",
       "      <td>0</td>\n",
       "      <td>71.2833</td>\n",
       "      <td>C</td>\n",
       "    </tr>\n",
       "    <tr>\n",
       "      <th>2</th>\n",
       "      <td>3</td>\n",
       "      <td>1</td>\n",
       "      <td>3</td>\n",
       "      <td>Heikkinen, Miss. Laina</td>\n",
       "      <td>female</td>\n",
       "      <td>26.0</td>\n",
       "      <td>0</td>\n",
       "      <td>0</td>\n",
       "      <td>7.9250</td>\n",
       "      <td>S</td>\n",
       "    </tr>\n",
       "    <tr>\n",
       "      <th>3</th>\n",
       "      <td>4</td>\n",
       "      <td>1</td>\n",
       "      <td>1</td>\n",
       "      <td>Futrelle, Mrs. Jacques Heath (Lily May Peel)</td>\n",
       "      <td>female</td>\n",
       "      <td>35.0</td>\n",
       "      <td>1</td>\n",
       "      <td>0</td>\n",
       "      <td>53.1000</td>\n",
       "      <td>S</td>\n",
       "    </tr>\n",
       "    <tr>\n",
       "      <th>4</th>\n",
       "      <td>5</td>\n",
       "      <td>0</td>\n",
       "      <td>3</td>\n",
       "      <td>Allen, Mr. William Henry</td>\n",
       "      <td>male</td>\n",
       "      <td>35.0</td>\n",
       "      <td>0</td>\n",
       "      <td>0</td>\n",
       "      <td>8.0500</td>\n",
       "      <td>S</td>\n",
       "    </tr>\n",
       "  </tbody>\n",
       "</table>\n",
       "</div>"
      ],
      "text/plain": [
       "   PassengerId  Survived  Pclass  \\\n",
       "0            1         0       3   \n",
       "1            2         1       1   \n",
       "2            3         1       3   \n",
       "3            4         1       1   \n",
       "4            5         0       3   \n",
       "\n",
       "                                                Name     Sex   Age  SibSp  \\\n",
       "0                            Braund, Mr. Owen Harris    male  22.0      1   \n",
       "1  Cumings, Mrs. John Bradley (Florence Briggs Th...  female  38.0      1   \n",
       "2                             Heikkinen, Miss. Laina  female  26.0      0   \n",
       "3       Futrelle, Mrs. Jacques Heath (Lily May Peel)  female  35.0      1   \n",
       "4                           Allen, Mr. William Henry    male  35.0      0   \n",
       "\n",
       "   Parch     Fare Embarked  \n",
       "0      0   7.2500        S  \n",
       "1      0  71.2833        C  \n",
       "2      0   7.9250        S  \n",
       "3      0  53.1000        S  \n",
       "4      0   8.0500        S  "
      ]
     },
     "execution_count": 4,
     "metadata": {},
     "output_type": "execute_result"
    }
   ],
   "source": [
    "Titanic.head()"
   ]
  },
  {
   "cell_type": "markdown",
   "metadata": {},
   "source": [
    "**Having noted the columns removal, we then remove the rows with incomplete data i.e. Rows with values NaN.**"
   ]
  },
  {
   "cell_type": "code",
   "execution_count": 5,
   "metadata": {},
   "outputs": [],
   "source": [
    "#Using dropna to remove values with Nan in the specified columns from the dataset\n",
    "titanic = Titanic.dropna(subset = ['Age', 'Embarked'])"
   ]
  },
  {
   "cell_type": "markdown",
   "metadata": {},
   "source": [
    "**Using the pandas .info() function again to check if our data is consistent**"
   ]
  },
  {
   "cell_type": "code",
   "execution_count": 6,
   "metadata": {},
   "outputs": [
    {
     "name": "stdout",
     "output_type": "stream",
     "text": [
      "<class 'pandas.core.frame.DataFrame'>\n",
      "Int64Index: 712 entries, 0 to 890\n",
      "Data columns (total 10 columns):\n",
      "PassengerId    712 non-null int64\n",
      "Survived       712 non-null int64\n",
      "Pclass         712 non-null int64\n",
      "Name           712 non-null object\n",
      "Sex            712 non-null object\n",
      "Age            712 non-null float64\n",
      "SibSp          712 non-null int64\n",
      "Parch          712 non-null int64\n",
      "Fare           712 non-null float64\n",
      "Embarked       712 non-null object\n",
      "dtypes: float64(2), int64(5), object(3)\n",
      "memory usage: 61.2+ KB\n"
     ]
    }
   ],
   "source": [
    "titanic.info()"
   ]
  },
  {
   "cell_type": "markdown",
   "metadata": {},
   "source": [
    "We now have a workable dataset with uniform entries. Thus, we can proceed to our analysis."
   ]
  },
  {
   "cell_type": "markdown",
   "metadata": {},
   "source": [
    "## Analysis"
   ]
  },
  {
   "cell_type": "markdown",
   "metadata": {},
   "source": [
    "### 1. Gender Distribution"
   ]
  },
  {
   "cell_type": "code",
   "execution_count": 7,
   "metadata": {},
   "outputs": [],
   "source": [
    "Male = titanic[titanic.Sex == 'male']\n",
    "Female = titanic[titanic.Sex == 'female']"
   ]
  },
  {
   "cell_type": "code",
   "execution_count": 8,
   "metadata": {},
   "outputs": [
    {
     "data": {
      "image/png": "[encoded data removed]",
      "text/plain": [
       "<matplotlib.figure.Figure at 0x6d097a2208>"
      ]
     },
     "metadata": {},
     "output_type": "display_data"
    },
    {
     "name": "stdout",
     "output_type": "stream",
     "text": [
      "There were 259 females and 453 males aboard the titanic\n"
     ]
    }
   ],
   "source": [
    "import matplotlib.pyplot as plt\n",
    "fig = plt.figure()\n",
    "Gender = fig.add_subplot(111)\n",
    "Gender.bar([1], [len(Male.index)], width = 1, color = 'darkturquoise', edgecolor='gray', label = 'Male')\n",
    "Gender.bar([2.5], [len(Female.index)], width = 1, color = 'orange', edgecolor='gray', label = 'Female')\n",
    "Gender.set_title(\"Gender Distribution\")\n",
    "Gender.set_ylabel(\"Frequency\")\n",
    "plt.xticks([1, 2.5], ['Male', 'Female'])\n",
    "plt.show()\n",
    "print (\"There were {0} females and {1} males aboard the titanic\".format(len(Female.index), len(Male.index)))"
   ]
  },
  {
   "cell_type": "markdown",
   "metadata": {},
   "source": [
    "### 2. Age Distribution"
   ]
  },
  {
   "cell_type": "markdown",
   "metadata": {},
   "source": [
    "We intend to discover the distribution of Ages on passengers aboard the titanic according to the dataset. Data is visualized with a histogram."
   ]
  },
  {
   "cell_type": "code",
   "execution_count": 9,
   "metadata": {},
   "outputs": [
    {
     "data": {
      "image/png": "[encoded data removed]",
      "text/plain": [
       "<matplotlib.figure.Figure at 0x6d087296a0>"
      ]
     },
     "metadata": {},
     "output_type": "display_data"
    }
   ],
   "source": [
    "titanic_age = titanic['Age']\n",
    "titanic_age.plot(kind='hist', color = 'yellow', edgecolor = 'gray', title = 'Age-Distribution')\n",
    "plt.xlabel('Age Distribution')\n",
    "plt.ylabel('Frequency')\n",
    "plt.show()"
   ]
  },
  {
   "cell_type": "markdown",
   "metadata": {},
   "source": [
    "#### i. Age - Gender Distribution"
   ]
  },
  {
   "cell_type": "markdown",
   "metadata": {},
   "source": [
    "I want to explore the Gender - Age distribution data. \n",
    "\n",
    "Firstly, I'll use groupby function to group together by the 'Sex' column."
   ]
  },
  {
   "cell_type": "code",
   "execution_count": 10,
   "metadata": {},
   "outputs": [],
   "source": [
    "Gender_Sex = titanic.groupby(['PassengerId', 'Age', 'Sex'], as_index=False).count()\n",
    "bins = [0, 5, 13, 21, 33, 50, 65, 90]\n",
    "group_names = ['0-5', '6-13', '14-21', '22-33', '34-50', '51-65', '66-90']\n",
    "Gender_Sex['categories'] = pd.cut(Gender_Sex['Age'], bins, labels=group_names)"
   ]
  },
  {
   "cell_type": "code",
   "execution_count": 11,
   "metadata": {},
   "outputs": [],
   "source": [
    "Gender_data = Gender_Sex.groupby('categories').Sex.value_counts()\n",
    "Gender_plot = Gender_data.unstack().fillna(0)\n",
    "Gender_Age = titanic.groupby('Sex')['Age']\n",
    "Gender_Age_Mean = titanic.groupby(['Sex'])['Age'].mean()\n",
    "Gender_Age_Mode = titanic.groupby(['Sex'])['Age'].agg(lambda x:x.value_counts().index[0])\n",
    "Gender_Age_Median = titanic.groupby(['Sex'])['Age'].median()"
   ]
  },
  {
   "cell_type": "code",
   "execution_count": 12,
   "metadata": {},
   "outputs": [
    {
     "data": {
      "image/png": "[encoded data removed]",
      "text/plain": [
       "<matplotlib.figure.Figure at 0x6d09bfcf98>"
      ]
     },
     "metadata": {},
     "output_type": "display_data"
    },
    {
     "name": "stdout",
     "output_type": "stream",
     "text": [
      "Mean Age for Males:  30.7266445916\n",
      "Mean Age for Females:  27.7451737452\n",
      "\n",
      "\n",
      "Modal Age for Males:  28.0\n",
      "Modal Age for Females:  24.0\n",
      "\n",
      "\n",
      "Median Age for Males:  29.0\n",
      "Median Age for Males:  29.0\n"
     ]
    }
   ],
   "source": [
    "%matplotlib inline\n",
    "Gender_plots = Gender_plot.plot(kind='bar', rot=0, title = 'Gender by Age Distribution')\n",
    "Gender_plots.set_xlabel(\"Age Groups\")\n",
    "Gender_plots.set_ylabel(\"Frequency\")\n",
    "plt.show()\n",
    "print (\"Mean Age for Males: \", Gender_Age_Mean.values[1])\n",
    "print (\"Mean Age for Females: \", Gender_Age_Mean.values[0])\n",
    "print (\"\\n\")\n",
    "print (\"Modal Age for Males: \", Gender_Age_Mode.values[1])\n",
    "print (\"Modal Age for Females: \", Gender_Age_Mode.values[0])\n",
    "print (\"\\n\")\n",
    "print (\"Median Age for Males: \", Gender_Age_Median.values[1])\n",
    "print (\"Median Age for Males: \", Gender_Age_Median.values[1])"
   ]
  },
  {
   "cell_type": "markdown",
   "metadata": {},
   "source": [
    "We observe that the age group 20 - 30 is the most popular age group"
   ]
  },
  {
   "cell_type": "markdown",
   "metadata": {
    "collapsed": true
   },
   "source": [
    "### 3. Class Distribution"
   ]
  },
  {
   "cell_type": "markdown",
   "metadata": {},
   "source": [
    "We need to visualize the Class distribution of passengers according to this dataset"
   ]
  },
  {
   "cell_type": "code",
   "execution_count": 13,
   "metadata": {},
   "outputs": [],
   "source": [
    "First_class = titanic[titanic.Pclass == 1]\n",
    "Second_class = titanic[titanic.Pclass == 2]\n",
    "Third_class = titanic[titanic.Pclass == 3]"
   ]
  },
  {
   "cell_type": "code",
   "execution_count": 14,
   "metadata": {},
   "outputs": [
    {
     "data": {
      "image/png": "[encoded data removed]",
      "text/plain": [
       "<matplotlib.figure.Figure at 0x6d09c93d30>"
      ]
     },
     "metadata": {},
     "output_type": "display_data"
    }
   ],
   "source": [
    "fig = plt.figure()\n",
    "Class = fig.add_subplot(111)\n",
    "Class.bar([1], [len(First_class.index)], width = 1, color = 'orangered', edgecolor='gray', label = 'First class')\n",
    "Class.bar([2], [len(Second_class.index)], width = 1, color = 'coral', edgecolor='gray', label = 'Second class')\n",
    "Class.bar([3], [len(Third_class.index)], width = 1, color = 'darksalmon', edgecolor='gray', label = 'Third class')\n",
    "Class.set_title(\"Class Distribution\")\n",
    "Class.set_ylabel(\"Frequency per Class\")\n",
    "plt.xticks([1, 2, 3], ['First Class', 'Second Class', 'Third Class'])\n",
    "plt.show()"
   ]
  },
  {
   "cell_type": "code",
   "execution_count": 15,
   "metadata": {},
   "outputs": [
    {
     "name": "stdout",
     "output_type": "stream",
     "text": [
      "First Class: 184\n",
      "Second Class: 173\n",
      "Third Class: 355\n"
     ]
    }
   ],
   "source": [
    "print (\"First Class:\", len(First_class.index))\n",
    "print (\"Second Class:\", len(Second_class.index))\n",
    "print  (\"Third Class:\", len(Third_class.index))"
   ]
  },
  {
   "cell_type": "markdown",
   "metadata": {},
   "source": [
    "From the chart, we can observe there were more third class occupants of the titanic with 355 passengers."
   ]
  },
  {
   "cell_type": "markdown",
   "metadata": {},
   "source": [
    "#### i. Class by Gender Distribution"
   ]
  },
  {
   "cell_type": "code",
   "execution_count": 16,
   "metadata": {},
   "outputs": [
    {
     "data": {
      "image/png": "[encoded data removed]",
      "text/plain": [
       "<matplotlib.figure.Figure at 0x6d097776a0>"
      ]
     },
     "metadata": {},
     "output_type": "display_data"
    }
   ],
   "source": [
    "Class_data = titanic.groupby(['Pclass']).Sex.value_counts()\n",
    "Class_data = Class_data.unstack().fillna(0)  #Fillna() function is used for filling Nan values with an inputed number\n",
    "Class_Gender_Chart = Class_data.plot(kind='bar', rot=0, title = \"Class by Gender Chart\")\n",
    "plt.ylabel(\"Frequency per Class\")\n",
    "plt.xticks([0, 1, 2], ['First Class', 'Second Class', 'Third Class'])\n",
    "plt.show()"
   ]
  },
  {
   "cell_type": "markdown",
   "metadata": {},
   "source": [
    "#### ii. Mean Ticket Fares by Class"
   ]
  },
  {
   "cell_type": "code",
   "execution_count": 17,
   "metadata": {},
   "outputs": [
    {
     "name": "stdout",
     "output_type": "stream",
     "text": [
      "The mean Ticket Fare for First Class: 88.0481211957\n",
      "The mean Ticket Fare for Second Class: 21.4715560694\n",
      "The mean Ticket Fare for Third Class: 13.2294352113\n"
     ]
    }
   ],
   "source": [
    "print (\"The mean Ticket Fare for First Class:\", First_class['Fare'].mean())\n",
    "print (\"The mean Ticket Fare for Second Class:\", Second_class['Fare'].mean())\n",
    "print (\"The mean Ticket Fare for Third Class:\", Third_class['Fare'].mean())"
   ]
  },
  {
   "cell_type": "markdown",
   "metadata": {},
   "source": [
    "### 4. Survivor - Dead Distribution"
   ]
  },
  {
   "cell_type": "code",
   "execution_count": 18,
   "metadata": {},
   "outputs": [],
   "source": [
    "Dead = titanic[titanic.Survived == 0]\n",
    "Alive = titanic[titanic.Survived == 1]"
   ]
  },
  {
   "cell_type": "code",
   "execution_count": 19,
   "metadata": {},
   "outputs": [
    {
     "data": {
      "image/png": "[encoded data removed]",
      "text/plain": [
       "<matplotlib.figure.Figure at 0x6d09da51d0>"
      ]
     },
     "metadata": {},
     "output_type": "display_data"
    }
   ],
   "source": [
    "fig = plt.figure()\n",
    "Survivor = fig.add_subplot(111)\n",
    "Survivor.bar([1], [len(Dead.index)], width = 1, color = 'gray', edgecolor='gray', label = 'Dead')\n",
    "Survivor.bar([2.5], [len(Alive.index)], width = 1, color = 'springgreen', edgecolor='gray', label = 'Alive')\n",
    "Survivor.set_title(\"Survivor Distribution\")\n",
    "Survivor.set_xlabel(\"Survival\")\n",
    "Survivor.set_ylabel(\"Frequency\")\n",
    "plt.xticks([1, 2.5], ['Dead', 'Alive'])\n",
    "plt.show()"
   ]
  },
  {
   "cell_type": "markdown",
   "metadata": {},
   "source": [
    "We can infer that more than half the passenger population perished on the titanic"
   ]
  },
  {
   "cell_type": "markdown",
   "metadata": {},
   "source": [
    "#### i. Survivor by Gender"
   ]
  },
  {
   "cell_type": "code",
   "execution_count": 20,
   "metadata": {},
   "outputs": [
    {
     "data": {
      "image/png": "[encoded data removed]",
      "text/plain": [
       "<matplotlib.figure.Figure at 0x6d09de2a90>"
      ]
     },
     "metadata": {},
     "output_type": "display_data"
    },
    {
     "name": "stdout",
     "output_type": "stream",
     "text": [
      "The number of dead:  424\n",
      "The number of survivors:  288\n",
      "There were 360 males and 64 females who perished (according to the dataset) on the titanic\n",
      "There were 93 males and 195 females who survived the titanic\n"
     ]
    }
   ],
   "source": [
    "Survivor_data = titanic.groupby(['Survived']).Sex.value_counts()\n",
    "Number_of_Dead = Survivor_data[0].values\n",
    "Number_of_Alive = Survivor_data[1].values\n",
    "Survivors = Survivor_data.unstack().fillna(0)  #Fillna() function is used for filling Nan values with an inputed number\n",
    "Survivors = Survivors.rename({0: 'Dead', 1: 'Alive'})\n",
    "Chart = Survivors.plot(kind='bar', rot=0, title = \"Survivor by Gender Chart\")\n",
    "Chart.set_xlabel(\"Survival by Gender\")\n",
    "Chart.set_ylabel(\"Frequency\")\n",
    "plt.show()\n",
    "print (\"The number of dead: \", Number_of_Dead.sum())\n",
    "print (\"The number of survivors: \", Number_of_Alive.sum())\n",
    "print (\"There were {0} males and {1} females who perished (according to the dataset) on the titanic\".format(Number_of_Dead[0], Number_of_Dead[1]))\n",
    "print (\"There were {0} males and {1} females who survived the titanic\".format(Number_of_Alive[1], Number_of_Alive[0]))"
   ]
  },
  {
   "cell_type": "markdown",
   "metadata": {},
   "source": [
    "We can infer that more men died and women had higher chances of survival. "
   ]
  },
  {
   "cell_type": "markdown",
   "metadata": {
    "collapsed": true
   },
   "source": [
    "#### ii. Survivor by Class Distribution"
   ]
  },
  {
   "cell_type": "markdown",
   "metadata": {},
   "source": [
    "Using the seaborn feature, we plot the distribution of Class and Survivorship to spot any possible relationships"
   ]
  },
  {
   "cell_type": "code",
   "execution_count": 21,
   "metadata": {},
   "outputs": [
    {
     "name": "stdout",
     "output_type": "stream",
     "text": [
      "Populating the interactive namespace from numpy and matplotlib\n"
     ]
    },
    {
     "name": "stderr",
     "output_type": "stream",
     "text": [
      "C:\\Users\\Kelechi Ibekwe\\Anaconda3\\envs\\Projects\\lib\\site-packages\\seaborn\\categorical.py:1460: FutureWarning: remove_na is deprecated and is a private function. Do not use.\n",
      "  stat_data = remove_na(group_data)\n"
     ]
    },
    {
     "data": {
      "text/plain": [
       "Text(0.5,0.98,'Survival Rate by Class Distribution')"
      ]
     },
     "execution_count": 21,
     "metadata": {},
     "output_type": "execute_result"
    },
    {
     "data": {
      "image/png": "[encoded data removed]",
      "text/plain": [
       "<matplotlib.figure.Figure at 0x6d09903e10>"
      ]
     },
     "metadata": {},
     "output_type": "display_data"
    }
   ],
   "source": [
    "%pylab inline\n",
    "Survivor_class_plot = sns.factorplot('Pclass', 'Survived', data = titanic, kind = 'bar')\n",
    "Survivor_class_plot.set_axis_labels(\"Class\", \"Survival Rate\")\n",
    "fig = Survivor_class_plot.fig\n",
    "fig.suptitle('Survival Rate by Class Distribution')"
   ]
  },
  {
   "cell_type": "markdown",
   "metadata": {},
   "source": [
    "#### iii. Survivor by Gender and Class"
   ]
  },
  {
   "cell_type": "markdown",
   "metadata": {},
   "source": [
    "Digging deeper, we want to check the gender breakdown of the Class - Survivor chart above, to see any possible relationships"
   ]
  },
  {
   "cell_type": "code",
   "execution_count": 22,
   "metadata": {
    "scrolled": false
   },
   "outputs": [
    {
     "name": "stderr",
     "output_type": "stream",
     "text": [
      "C:\\Users\\Kelechi Ibekwe\\Anaconda3\\envs\\Projects\\lib\\site-packages\\seaborn\\categorical.py:1508: FutureWarning: remove_na is deprecated and is a private function. Do not use.\n",
      "  stat_data = remove_na(group_data[hue_mask])\n"
     ]
    },
    {
     "data": {
      "text/plain": [
       "Text(0.5,0.98,'Survival Rate by Gender and Class Distribution')"
      ]
     },
     "execution_count": 22,
     "metadata": {},
     "output_type": "execute_result"
    },
    {
     "data": {
      "image/png": "[encoded data removed]",
      "text/plain": [
       "<matplotlib.figure.Figure at 0x6d09ec0908>"
      ]
     },
     "metadata": {},
     "output_type": "display_data"
    }
   ],
   "source": [
    "Survivor_Gender_class_plot = sns.factorplot('Pclass', 'Survived', hue = 'Sex', data = titanic, kind = 'bar')\n",
    "Survivor_Gender_class_plot.set_axis_labels(\"Class\", \"Survival Rate\")\n",
    "fig = Survivor_Gender_class_plot.fig\n",
    "fig.suptitle('Survival Rate by Gender and Class Distribution')"
   ]
  },
  {
   "cell_type": "markdown",
   "metadata": {},
   "source": [
    "We notice that people from the First Class had higher chances of survival compared to the Second and Third Class"
   ]
  },
  {
   "cell_type": "markdown",
   "metadata": {},
   "source": [
    "#### iv. Survivor by Age Distribution"
   ]
  },
  {
   "cell_type": "code",
   "execution_count": 23,
   "metadata": {},
   "outputs": [
    {
     "data": {
      "image/png": "[encoded data removed]",
      "text/plain": [
       "<matplotlib.figure.Figure at 0x6d09feef60>"
      ]
     },
     "metadata": {},
     "output_type": "display_data"
    },
    {
     "data": {
      "image/png": "[encoded data removed]",
      "text/plain": [
       "<matplotlib.figure.Figure at 0x6d09feef98>"
      ]
     },
     "metadata": {},
     "output_type": "display_data"
    }
   ],
   "source": [
    "Gender = titanic.groupby(['PassengerId','Sex', 'Age', 'Survived'], as_index = False).count()\n",
    "bins = [0, 5, 13, 21, 33, 50, 65, 90]\n",
    "group_names = ['0-5', '6-13', '14-21', '22-33', '34-50', '51-65', '66-90']\n",
    "Gender['categories'] = pd.cut(Gender['Age'], bins, labels=group_names)\n",
    "Gender_plot = Gender.groupby(['categories', 'Sex']).Survived.value_counts().sort_index()\n",
    "Gender_plots = Gender_plot.unstack().fillna(0)\n",
    "Dead = Gender_plots[0].unstack()\n",
    "Alive = Gender_plots[1].unstack()\n",
    "Dead_plot = Dead.plot(kind='bar', rot=0, title = 'Dead Titanic Passengers by Gender and Age')\n",
    "Alive_plot = Alive.plot(kind='bar', rot=0, title = 'Surviving Titanic Passengers by Gender and Age')\n",
    "Dead_plot.set_xlabel(\"Age Groups\")\n",
    "Alive_plot.set_xlabel(\"Age Groups\")\n",
    "Dead_plot.set_ylabel(\"Frequency\")\n",
    "Alive_plot.set_ylabel(\"Frequency\")\n",
    "plt.show()"
   ]
  },
  {
   "cell_type": "markdown",
   "metadata": {},
   "source": [
    "We observe that the age group for both genders with the highest number of deaths is 22 - 33. \n",
    "We observe that the age group for both genders with the highest number of survival is 22 - 33. \n",
    "\n",
    "This is too inconclusive and bears further analysis. To further understand the above chart, I'm going to explore whether Class had any relationship with Survival chances."
   ]
  },
  {
   "cell_type": "markdown",
   "metadata": {},
   "source": [
    "#### v. Mean, Modal and Median Age of Survivors"
   ]
  },
  {
   "cell_type": "code",
   "execution_count": 24,
   "metadata": {},
   "outputs": [],
   "source": [
    "Mean_Survivor_Data = titanic.groupby(['Sex', 'Survived'])['Age'].mean()\n",
    "Modal_Survivor_Data = titanic.groupby(['Sex', 'Survived'])['Age'].agg(lambda x:x.value_counts().index[0])\n",
    "Median_Survivor_Data = titanic.groupby(['Sex', 'Survived'])['Age'].median()"
   ]
  },
  {
   "cell_type": "code",
   "execution_count": 25,
   "metadata": {},
   "outputs": [
    {
     "name": "stdout",
     "output_type": "stream",
     "text": [
      "Mean Age for Dead Males:  31.6180555556\n",
      "Mean Age for Dead Females:  25.046875\n",
      "Mean Age for Surviving Males:  27.2760215054\n",
      "Mean Age for Surviving Females:  28.6307692308\n",
      "\n",
      "\n",
      "Modal Age for Dead Males:  28.0\n",
      "Modal Age for Dead Females:  18.0\n",
      "Modal Age for Surviving Males:  32.0\n",
      "Modal Age for Surviving Females:  24.0\n",
      "\n",
      "\n",
      "Median Age for Dead Males:  29.0\n",
      "Median Age for Dead Females:  24.5\n",
      "Median Age for Males:  28.0\n",
      "Median Age for Males:  28.0\n"
     ]
    }
   ],
   "source": [
    "print (\"Mean Age for Dead Males: \", Mean_Survivor_Data.values[2])\n",
    "print (\"Mean Age for Dead Females: \", Mean_Survivor_Data.values[0])\n",
    "print (\"Mean Age for Surviving Males: \", Mean_Survivor_Data.values[3])\n",
    "print (\"Mean Age for Surviving Females: \", Mean_Survivor_Data.values[1])\n",
    "print (\"\\n\")\n",
    "print (\"Modal Age for Dead Males: \", Modal_Survivor_Data.values[2])\n",
    "print (\"Modal Age for Dead Females: \", Modal_Survivor_Data.values[0])\n",
    "print (\"Modal Age for Surviving Males: \", Modal_Survivor_Data.values[3])\n",
    "print (\"Modal Age for Surviving Females: \", Modal_Survivor_Data.values[1])\n",
    "print (\"\\n\")\n",
    "print (\"Median Age for Dead Males: \", Median_Survivor_Data.values[2])\n",
    "print (\"Median Age for Dead Females: \", Median_Survivor_Data.values[0])\n",
    "print (\"Median Age for Males: \", Median_Survivor_Data.values[3])\n",
    "print (\"Median Age for Males: \", Median_Survivor_Data.values[1])"
   ]
  },
  {
   "cell_type": "markdown",
   "metadata": {},
   "source": [
    "### 5. Family Relationships"
   ]
  },
  {
   "cell_type": "code",
   "execution_count": 26,
   "metadata": {},
   "outputs": [],
   "source": [
    "Parent_Relations = titanic[titanic.Parch != 0]\n",
    "Sibling_Relations = titanic[titanic.SibSp != 0]\n",
    "Non_Parch = titanic[titanic.Parch == 0]\n",
    "Non_SibSp = titanic[titanic.SibSp == 0]"
   ]
  },
  {
   "cell_type": "code",
   "execution_count": 27,
   "metadata": {},
   "outputs": [
    {
     "data": {
      "image/png": "[encoded data removed]",
      "text/plain": [
       "<matplotlib.figure.Figure at 0x6d09f53630>"
      ]
     },
     "metadata": {},
     "output_type": "display_data"
    }
   ],
   "source": [
    "fig = plt.figure()\n",
    "s = fig.add_subplot(111)\n",
    "s.bar([1], [len(Parent_Relations.index)], width = 1, color = 'peachpuff', edgecolor='gray', label = 'Parent-Child Relationships')\n",
    "s.bar([2], [len(Non_Parch.index)], width = 1, color = 'darkorange', edgecolor='gray', label = 'Non Parent-Child Relationships')\n",
    "s.bar([4], [len(Sibling_Relations)], width = 1, color = 'lightblue', edgecolor='gray', label = 'Sibling Spouse Relationships')\n",
    "s.bar([5], [len(Non_SibSp)], width = 1, color = 'steelblue', edgecolor='gray', label = 'Non Sibling-Spouse Relationships')\n",
    "\n",
    "s.set_title(\"Relations Comparison Distribution\")\n",
    "s.set_ylabel(\"Distribution\")\n",
    "plt.xticks([1, 2, 4, 5], ['Parch', 'Non Parch', 'SibSp', 'Non SibSp'])\n",
    "plt.show()"
   ]
  },
  {
   "cell_type": "markdown",
   "metadata": {},
   "source": [
    "Majority of Passengers did not have any relations; direct or indirect, on board"
   ]
  },
  {
   "cell_type": "markdown",
   "metadata": {
    "collapsed": true
   },
   "source": [
    "### 6. Embarkation Distribution"
   ]
  },
  {
   "cell_type": "markdown",
   "metadata": {},
   "source": [
    "We want to determine the distribution of people who embarked at different stations"
   ]
  },
  {
   "cell_type": "markdown",
   "metadata": {},
   "source": [
    "Using the Seaborn countplot function, we aim to display categorical data"
   ]
  },
  {
   "cell_type": "code",
   "execution_count": 28,
   "metadata": {},
   "outputs": [
    {
     "name": "stderr",
     "output_type": "stream",
     "text": [
      "C:\\Users\\Kelechi Ibekwe\\Anaconda3\\envs\\Projects\\lib\\site-packages\\seaborn\\categorical.py:1460: FutureWarning: remove_na is deprecated and is a private function. Do not use.\n",
      "  stat_data = remove_na(group_data)\n"
     ]
    },
    {
     "data": {
      "image/png": "[encoded data removed]",
      "text/plain": [
       "<matplotlib.figure.Figure at 0x6d087296a0>"
      ]
     },
     "metadata": {},
     "output_type": "display_data"
    }
   ],
   "source": [
    "S = titanic[titanic.Embarked == 'S']\n",
    "C = titanic[titanic.Embarked == 'C']\n",
    "Q = titanic[titanic.Embarked == 'Q']\n",
    "Embarkation = sns.countplot(x=\"Embarked\", data=titanic)\n",
    "plt.xlabel(\"Points of Embarkation\")\n",
    "plt.suptitle('Survival Rate by Class Distribution')\n",
    "plt.show()"
   ]
  },
  {
   "cell_type": "markdown",
   "metadata": {},
   "source": [
    "<pre> From our data dictionary, we know that\n",
    "    S - Southampton\n",
    "    C - Cherbourg\n",
    "    Q - Queenstown\n",
    "    \n",
    "From our chart, we can state that Southampton had the highest number of embarkations </pre>"
   ]
  },
  {
   "cell_type": "markdown",
   "metadata": {},
   "source": [
    "#### i. Embarkation - Gender Distribution"
   ]
  },
  {
   "cell_type": "markdown",
   "metadata": {},
   "source": [
    "We plot this distribution using the seaborn countplot function"
   ]
  },
  {
   "cell_type": "code",
   "execution_count": 29,
   "metadata": {},
   "outputs": [
    {
     "name": "stderr",
     "output_type": "stream",
     "text": [
      "C:\\Users\\Kelechi Ibekwe\\Anaconda3\\envs\\Projects\\lib\\site-packages\\seaborn\\categorical.py:1508: FutureWarning: remove_na is deprecated and is a private function. Do not use.\n",
      "  stat_data = remove_na(group_data[hue_mask])\n"
     ]
    },
    {
     "data": {
      "text/plain": [
       "Text(0.5,1,'Embarkation by Gender')"
      ]
     },
     "execution_count": 29,
     "metadata": {},
     "output_type": "execute_result"
    },
    {
     "data": {
      "image/png": "[encoded data removed]",
      "text/plain": [
       "<matplotlib.figure.Figure at 0x6d09fc1b00>"
      ]
     },
     "metadata": {},
     "output_type": "display_data"
    }
   ],
   "source": [
    "Embarkation_by_Gender = sns.countplot(x=\"Embarked\", hue=\"Sex\", data=titanic)\n",
    "Embarkation_by_Gender.set_title('Embarkation by Gender')"
   ]
  },
  {
   "cell_type": "markdown",
   "metadata": {},
   "source": [
    "As expected, the station with both the highest number of male and female passengers is Southampton. \n",
    "\n",
    "Going further, we explore the class distribution on a station by station basis"
   ]
  },
  {
   "cell_type": "markdown",
   "metadata": {},
   "source": [
    "#### ii. Embarkation by Class"
   ]
  },
  {
   "cell_type": "markdown",
   "metadata": {},
   "source": [
    "##### First Class"
   ]
  },
  {
   "cell_type": "code",
   "execution_count": 30,
   "metadata": {},
   "outputs": [
    {
     "name": "stderr",
     "output_type": "stream",
     "text": [
      "C:\\Users\\Kelechi Ibekwe\\Anaconda3\\envs\\Projects\\lib\\site-packages\\seaborn\\categorical.py:1460: FutureWarning: remove_na is deprecated and is a private function. Do not use.\n",
      "  stat_data = remove_na(group_data)\n"
     ]
    },
    {
     "data": {
      "text/plain": [
       "Text(0.5,0,'Point of Embarkation')"
      ]
     },
     "execution_count": 30,
     "metadata": {},
     "output_type": "execute_result"
    },
    {
     "data": {
      "image/png": "[encoded data removed]",
      "text/plain": [
       "<matplotlib.figure.Figure at 0x6d09c9e978>"
      ]
     },
     "metadata": {},
     "output_type": "display_data"
    }
   ],
   "source": [
    "Embarkation_First_Class = sns.countplot(x=\"Embarked\", data=First_class)\n",
    "plt.title(\"Station by First Class\")\n",
    "plt.xlabel(\"Point of Embarkation\")"
   ]
  },
  {
   "cell_type": "markdown",
   "metadata": {},
   "source": [
    "There were more first class Passengers at Southampton Station"
   ]
  },
  {
   "cell_type": "markdown",
   "metadata": {},
   "source": [
    "##### Second Class"
   ]
  },
  {
   "cell_type": "code",
   "execution_count": 31,
   "metadata": {},
   "outputs": [
    {
     "name": "stderr",
     "output_type": "stream",
     "text": [
      "C:\\Users\\Kelechi Ibekwe\\Anaconda3\\envs\\Projects\\lib\\site-packages\\seaborn\\categorical.py:1460: FutureWarning: remove_na is deprecated and is a private function. Do not use.\n",
      "  stat_data = remove_na(group_data)\n"
     ]
    },
    {
     "data": {
      "text/plain": [
       "Text(0.5,1,'Station by Second Class')"
      ]
     },
     "execution_count": 31,
     "metadata": {},
     "output_type": "execute_result"
    },
    {
     "data": {
      "image/png": "[encoded data removed]",
      "text/plain": [
       "<matplotlib.figure.Figure at 0x6d09887da0>"
      ]
     },
     "metadata": {},
     "output_type": "display_data"
    }
   ],
   "source": [
    "Embarkation_Second_Class = sns.countplot(x=\"Embarked\", data=Second_class)\n",
    "Embarkation_Second_Class.set_title(\"Station by Second Class\")"
   ]
  },
  {
   "cell_type": "markdown",
   "metadata": {},
   "source": [
    "##### Third Class"
   ]
  },
  {
   "cell_type": "code",
   "execution_count": 32,
   "metadata": {},
   "outputs": [
    {
     "name": "stderr",
     "output_type": "stream",
     "text": [
      "C:\\Users\\Kelechi Ibekwe\\Anaconda3\\envs\\Projects\\lib\\site-packages\\seaborn\\categorical.py:1460: FutureWarning: remove_na is deprecated and is a private function. Do not use.\n",
      "  stat_data = remove_na(group_data)\n"
     ]
    },
    {
     "data": {
      "text/plain": [
       "Text(0.5,1,'Station by Third Class')"
      ]
     },
     "execution_count": 32,
     "metadata": {},
     "output_type": "execute_result"
    },
    {
     "data": {
      "image/png": "[encoded data removed]",
      "text/plain": [
       "<matplotlib.figure.Figure at 0x6d0a11b5f8>"
      ]
     },
     "metadata": {},
     "output_type": "display_data"
    }
   ],
   "source": [
    "Embarkation_Third_Class = sns.countplot(x=\"Embarked\", data=Third_class)\n",
    "Embarkation_Third_Class.set_title(\"Station by Third Class\")"
   ]
  },
  {
   "cell_type": "markdown",
   "metadata": {},
   "source": [
    "#### iii. Survivor by Embarkation - Class"
   ]
  },
  {
   "cell_type": "markdown",
   "metadata": {},
   "source": [
    "Exploring the number of each class embarked by each station"
   ]
  },
  {
   "cell_type": "code",
   "execution_count": 33,
   "metadata": {},
   "outputs": [
    {
     "name": "stderr",
     "output_type": "stream",
     "text": [
      "C:\\Users\\Kelechi Ibekwe\\Anaconda3\\envs\\Projects\\lib\\site-packages\\seaborn\\categorical.py:1508: FutureWarning: remove_na is deprecated and is a private function. Do not use.\n",
      "  stat_data = remove_na(group_data[hue_mask])\n"
     ]
    },
    {
     "data": {
      "image/png": "[encoded data removed]",
      "text/plain": [
       "<matplotlib.figure.Figure at 0x6d0a1a5668>"
      ]
     },
     "metadata": {},
     "output_type": "display_data"
    }
   ],
   "source": [
    "Embarkation_by_Class_Survivor = sns.barplot(x=\"Embarked\", y = \"Survived\", hue=\"Pclass\", data=titanic)\n",
    "Embarkation_by_Class_Survivor.set(xlabel='Class by Station', ylabel='Survival Rate')\n",
    "plt.title(\"Survival by Embarkation and Class\")\n",
    "plt.show()"
   ]
  },
  {
   "cell_type": "markdown",
   "metadata": {},
   "source": [
    "It is worthy of note that people who boarded the Titanic from Cherbourg had higher survival chances across all classes"
   ]
  },
  {
   "cell_type": "markdown",
   "metadata": {},
   "source": [
    "### 7. Fare per Embarkation Point"
   ]
  },
  {
   "cell_type": "code",
   "execution_count": 34,
   "metadata": {},
   "outputs": [
    {
     "name": "stdout",
     "output_type": "stream",
     "text": [
      "Mean Ticket Price for Southampton: \n",
      "First Class: 74.1724148148\n",
      "Second Class: 21.075\n",
      "Third Class: 13.5294510345\n"
     ]
    }
   ],
   "source": [
    "Southampton_First = S[S.Pclass == 1].Fare.mean()\n",
    "Southampton_Second = S[S.Pclass == 2].Fare.mean()\n",
    "Southampton_Third = S[S.Pclass == 3].Fare.mean()\n",
    "\n",
    "print (\"Mean Ticket Price for Southampton: \")\n",
    "print (\"First Class:\", Southampton_First)\n",
    "print (\"Second Class:\", Southampton_Second)\n",
    "print (\"Third Class:\", Southampton_Third)"
   ]
  },
  {
   "cell_type": "code",
   "execution_count": 35,
   "metadata": {},
   "outputs": [
    {
     "name": "stdout",
     "output_type": "stream",
     "text": [
      "Mean Ticket Price for Southampton: \n",
      "First Class: 108.246398649\n",
      "Second Class: 26.8119466667\n",
      "Third Class: 11.3699268293\n"
     ]
    }
   ],
   "source": [
    "Cherbourg_First = C[C.Pclass == 1].Fare.mean()\n",
    "Cherbourg_Second = C[C.Pclass == 2].Fare.mean()\n",
    "Cherbourg_Third = C[C.Pclass == 3].Fare.mean()\n",
    "\n",
    "print (\"Mean Ticket Price for Southampton: \")\n",
    "print (\"First Class:\", Cherbourg_First)\n",
    "print (\"Second Class:\", Cherbourg_Second)\n",
    "print (\"Third Class:\", Cherbourg_Third)"
   ]
  },
  {
   "cell_type": "code",
   "execution_count": 36,
   "metadata": {},
   "outputs": [
    {
     "name": "stdout",
     "output_type": "stream",
     "text": [
      "Mean Ticket Price for Southampton: \n",
      "First Class: 90.0\n",
      "Second Class: 12.35\n",
      "Third Class: 12.7809041667\n"
     ]
    }
   ],
   "source": [
    "Queenstown_First = Q[Q.Pclass == 1].Fare.mean()\n",
    "Queenstown_Second = Q[Q.Pclass == 2].Fare.mean()\n",
    "Queenstown_Third = Q[Q.Pclass == 3].Fare.mean()\n",
    "\n",
    "print (\"Mean Ticket Price for Southampton: \")\n",
    "print (\"First Class:\", Queenstown_First)\n",
    "print (\"Second Class:\", Queenstown_Second)\n",
    "print (\"Third Class:\", Queenstown_Third)"
   ]
  },
  {
   "cell_type": "markdown",
   "metadata": {},
   "source": [
    "### 8. Fare - Age by Class Correlation"
   ]
  },
  {
   "cell_type": "markdown",
   "metadata": {},
   "source": [
    "We want to see if there's any relationship between Fare and Age"
   ]
  },
  {
   "cell_type": "markdown",
   "metadata": {},
   "source": [
    "#### i. First Class"
   ]
  },
  {
   "cell_type": "code",
   "execution_count": 37,
   "metadata": {},
   "outputs": [
    {
     "data": {
      "image/png": "[encoded data removed]",
      "text/plain": [
       "<matplotlib.figure.Figure at 0x6d0a1eba20>"
      ]
     },
     "metadata": {},
     "output_type": "display_data"
    },
    {
     "name": "stdout",
     "output_type": "stream",
     "text": [
      "Correlation between Age and Fares for First Class is -0.219308604027\n"
     ]
    }
   ],
   "source": [
    "First_class_plot = plt.scatter(First_class.Age, First_class.Fare, c='r')\n",
    "plt.title(\"Correlation by Age and Fare - First Class\")\n",
    "plt.xlabel(\"Age\")\n",
    "plt.ylabel(\"Frequency\")\n",
    "plt.show()\n",
    "print (\"Correlation between Age and Fares for First Class is\", First_class['Age'].corr(First_class['Fare']))"
   ]
  },
  {
   "cell_type": "markdown",
   "metadata": {},
   "source": [
    "#### ii. Second Class"
   ]
  },
  {
   "cell_type": "code",
   "execution_count": 38,
   "metadata": {},
   "outputs": [
    {
     "data": {
      "image/png": "[encoded data removed]",
      "text/plain": [
       "<matplotlib.figure.Figure at 0x6d0a2ba438>"
      ]
     },
     "metadata": {},
     "output_type": "display_data"
    },
    {
     "name": "stdout",
     "output_type": "stream",
     "text": [
      "Correlation between Age and Fares for Second Class is -0.197038357716\n"
     ]
    }
   ],
   "source": [
    "Second_class_plot = plt.scatter(Second_class.Age, Second_class.Fare, c = 'y')\n",
    "plt.title(\"Correlation by Age and Fare - Second Class\")\n",
    "plt.xlabel(\"Age\")\n",
    "plt.ylabel(\"Frequency\")\n",
    "plt.show()\n",
    "print (\"Correlation between Age and Fares for Second Class is\", Second_class['Age'].corr(Second_class['Fare']))"
   ]
  },
  {
   "cell_type": "markdown",
   "metadata": {},
   "source": [
    "#### iii. Third Class"
   ]
  },
  {
   "cell_type": "code",
   "execution_count": 39,
   "metadata": {},
   "outputs": [
    {
     "data": {
      "image/png": "[encoded data removed]",
      "text/plain": [
       "<matplotlib.figure.Figure at 0x6d0a1f3b38>"
      ]
     },
     "metadata": {},
     "output_type": "display_data"
    },
    {
     "name": "stdout",
     "output_type": "stream",
     "text": [
      "Correlation between Age and Fares for Third Class is -0.260314698259\n"
     ]
    }
   ],
   "source": [
    "Third_class_plot = plt.scatter(Third_class.Age, Third_class.Fare)\n",
    "plt.title(\"Correlation by Age and Fare - Third Class\")\n",
    "plt.xlabel(\"Age\")\n",
    "plt.ylabel(\"Frequency\")\n",
    "plt.show()\n",
    "print (\"Correlation between Age and Fares for Third Class is\", Third_class['Age'].corr(Third_class['Fare']))"
   ]
  },
  {
   "cell_type": "markdown",
   "metadata": {},
   "source": [
    "From the charts above, we can infer that age does not show a relationship with ticket Fares"
   ]
  },
  {
   "cell_type": "markdown",
   "metadata": {},
   "source": [
    "### Results"
   ]
  },
  {
   "cell_type": "markdown",
   "metadata": {},
   "source": [
    "From this dataset and my analysis, we can predict to some extent the chances of survival. \n",
    "\n",
    "Women with First Class tickets had the strongest chances of survival while men in the Third Class had the worst chances of survival followed by men in the Second class and subsequently followed by men in the First class. \n",
    "\n",
    "Children between the ages 0 and 13 were the least affected age group with minimal casualties. The group with the lowest survivors is Men between ages 65 - 90."
   ]
  },
  {
   "cell_type": "markdown",
   "metadata": {},
   "source": [
    "Going further, I explore the relationships between Categorical data to confirm my assumptions."
   ]
  },
  {
   "cell_type": "markdown",
   "metadata": {},
   "source": [
    "### Relationships for Categorical Data"
   ]
  },
  {
   "cell_type": "markdown",
   "metadata": {},
   "source": [
    "We use the pandas crosstab function to compute a cross-tabulation of several factors"
   ]
  },
  {
   "cell_type": "code",
   "execution_count": 40,
   "metadata": {},
   "outputs": [],
   "source": [
    "import scipy.stats as stats\n",
    "from scipy.stats import chi2_contingency"
   ]
  },
  {
   "cell_type": "markdown",
   "metadata": {},
   "source": [
    "As we are about to go through categorical variables while measuring relationships, we use the chi-square function"
   ]
  },
  {
   "cell_type": "markdown",
   "metadata": {},
   "source": [
    "Procedure below for determining chi-square was obtained from <a href = \"https://olegleyz.github.io/titanic_factors.html\">Oleg</a>"
   ]
  },
  {
   "cell_type": "code",
   "execution_count": 41,
   "metadata": {},
   "outputs": [],
   "source": [
    "def chi_sq(data,indep_var,dep_var):\n",
    "    chi_crosstab = pd.crosstab(data[dep_var], data[indep_var])\n",
    "    dep_var_index = titanic['Survived'].unique()\n",
    "    chi_crosstab.index = dep_var_index\n",
    "    \n",
    "    indep_var_sum = chi_crosstab.sum()\n",
    "    indep_var_index = indep_var_sum.index\n",
    "\n",
    "    indep_var_total = chi_crosstab.sum().sum()\n",
    "\n",
    "    exp_coef = chi_crosstab.sum(axis = 1) / indep_var_total\n",
    "    \n",
    "    chi_crosstab_exp = pd.DataFrame(np.outer(exp_coef,chi_crosstab.sum()))\n",
    "    chi_crosstab_exp.columns = indep_var_index\n",
    "    chi_crosstab_exp.index = dep_var_index\n",
    "    \n",
    "    chi_square_df = (chi_crosstab - chi_crosstab_exp)**2/chi_crosstab_exp\n",
    "    chi_square = chi_square_df.sum().sum()\n",
    "    \n",
    "    dfreed = (len(data[indep_var].unique())-1)*(len(data[dep_var].unique())-1)\n",
    "    crit = stats.chi2.ppf(q = 0.95, # Find the critical value for 95% confidence*\n",
    "                          df = dfreed)\n",
    "\n",
    "    p_value = 1 - stats.chi2.cdf(x=chi_square,  # Find the p-value\n",
    "                                 df=dfreed)    \n",
    "    \n",
    "    cramer_v = np.sqrt(chi_square/len(data))\n",
    "    \n",
    "    return chi_square, p_value, cramer_v"
   ]
  },
  {
   "cell_type": "markdown",
   "metadata": {},
   "source": [
    "### Relationship between Gender and Survival"
   ]
  },
  {
   "cell_type": "code",
   "execution_count": 42,
   "metadata": {},
   "outputs": [
    {
     "name": "stdout",
     "output_type": "stream",
     "text": [
      "Chi_square is 205.13648469340086, P_value = 0.0 and Cramer_Value is 0.5367616233485031\n"
     ]
    }
   ],
   "source": [
    "print (\"Chi_square is {0}, P_value = {1} and Cramer_Value is {2}\".format(chi_sq(titanic, 'Sex', 'Survived')[0], chi_sq(titanic, 'Sex', 'Survived')[1], chi_sq(titanic, 'Sex', 'Survived')[2]))"
   ]
  },
  {
   "cell_type": "markdown",
   "metadata": {},
   "source": [
    "### Relationship between Age and Survival"
   ]
  },
  {
   "cell_type": "code",
   "execution_count": 43,
   "metadata": {},
   "outputs": [
    {
     "name": "stdout",
     "output_type": "stream",
     "text": [
      "Chi_square is 104.09890718065557, P_value = 0.10209429637643264 and Cramer_Value is 0.3823693637177402\n"
     ]
    }
   ],
   "source": [
    "print (\"Chi_square is {0}, P_value = {1} and Cramer_Value is {2}\".format(chi_sq(titanic, 'Age', 'Survived')[0], chi_sq(titanic, 'Age', 'Survived')[1], chi_sq(titanic, 'Age', 'Survived')[2]))"
   ]
  },
  {
   "cell_type": "markdown",
   "metadata": {},
   "source": [
    "### Relationship between Class and Survival"
   ]
  },
  {
   "cell_type": "code",
   "execution_count": 44,
   "metadata": {},
   "outputs": [
    {
     "name": "stdout",
     "output_type": "stream",
     "text": [
      "Chi_square is 91.0807454879102, P_value = 0.0 and Cramer_Value is 0.3576624041581509\n"
     ]
    }
   ],
   "source": [
    "print (\"Chi_square is {0}, P_value = {1} and Cramer_Value is {2}\".format(chi_sq(titanic, 'Pclass', 'Survived')[0], chi_sq(titanic, 'Pclass', 'Survived')[1], chi_sq(titanic, 'Pclass', 'Survived')[2]))"
   ]
  },
  {
   "cell_type": "markdown",
   "metadata": {},
   "source": [
    "### Relationship between Embarkation and Survival"
   ]
  },
  {
   "cell_type": "code",
   "execution_count": 45,
   "metadata": {},
   "outputs": [
    {
     "name": "stdout",
     "output_type": "stream",
     "text": [
      "Chi_square is 27.918691003688625, P_value = 8.660306799468387e-07 and Cramer_Value is 0.19801930377642984\n"
     ]
    }
   ],
   "source": [
    "print (\"Chi_square is {0}, P_value = {1} and Cramer_Value is {2}\".format(chi_sq(titanic, 'Embarked', 'Survived')[0], chi_sq(titanic, 'Embarked', 'Survived')[1], chi_sq(titanic, 'Embarked', 'Survived')[2]))"
   ]
  },
  {
   "cell_type": "markdown",
   "metadata": {},
   "source": [
    "### Relationship Analysis"
   ]
  },
  {
   "cell_type": "markdown",
   "metadata": {},
   "source": [
    "Cramer Values are an indicator of the strength of the relationships between categorical and also non-nominal variables. \n",
    "\n",
    "From this <a href = \"https://www.angelo.edu/faculty/ljones/gov3301/block14/objective3.htm\">website</a>, I measured the strength of the Cramer scores"
   ]
  },
  {
   "cell_type": "markdown",
   "metadata": {},
   "source": [
    "For the relationship between Age and Survival, we have a score of 0.38 which indicates a moderate positive relationship.\n",
    "\n",
    "For the relationship between Class and Survival, we have a score of 0.35 which indicates a moderate positive relationship.\n",
    "\n",
    "For the relationship between Embarkation and Survival, we have a score of 0.19 which indicates a low positive relationship."
   ]
  },
  {
   "cell_type": "markdown",
   "metadata": {},
   "source": [
    "## Limitations of Analysis"
   ]
  },
  {
   "cell_type": "markdown",
   "metadata": {},
   "source": [
    "1. Some rows in the dataset contained missing values: There were rows of Passenger data that had to be removed as certain columns contained NaN/missing values. This reduced the strength of our analysis as the analysis did not cover all the passengers.\n",
    "\n",
    "2. Correlation does not always imply causation\n",
    "\n",
    "3. There were columns that were not used in this analysis i.e. Cabins, Tickets: Cabins determined the possible deck of the passengers and deck location could have played a strong role in survival. However, we cannot adequately measure this as not enough information was given.\n",
    "\n",
    "4. Further deaths after survival of initial wreck are unaccounted for i.e. Freezing, Hypothermia"
   ]
  },
  {
   "cell_type": "markdown",
   "metadata": {},
   "source": [
    "## References"
   ]
  },
  {
   "cell_type": "markdown",
   "metadata": {},
   "source": [
    "1. https://chrisalbon.com/python/matplotlib_scatterplot_from_pandas.html\n",
    "2. https://chrisalbon.com/python/pandas_with_seaborn.html\n",
    "3. https://olegleyz.github.io/titanic_factors.html\n",
    "4. https://www.angelo.edu/faculty/ljones/gov3301/block14/objective3.htm\n",
    "5. https://stackoverflow.com/questions/27016904/matplotlib-legends-in-subplot\n",
    "6. https://stackoverflow.com/questions/10373660/converting-a-pandas-groupby-object-to-dataframe"
   ]
  }
 ],
 "metadata": {
  "kernelspec": {
   "display_name": "Python [conda env:Projects]",
   "language": "python",
   "name": "conda-env-Projects-py"
  },
  "language_info": {
   "codemirror_mode": {
    "name": "ipython",
    "version": 3
   },
   "file_extension": ".py",
   "mimetype": "text/x-python",
   "name": "python",
   "nbconvert_exporter": "python",
   "pygments_lexer": "ipython3",
   "version": "3.6.3"
  }
 },
 "nbformat": 4,
 "nbformat_minor": 2
}
